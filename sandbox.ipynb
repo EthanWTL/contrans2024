{
 "cells": [
  {
   "cell_type": "code",
   "execution_count": 1,
   "metadata": {},
   "outputs": [],
   "source": [
    "from contrans import contrans\n",
    "import numpy as np\n",
    "import pandas as pd\n",
    "import dotenv\n",
    "import os\n",
    "import json\n",
    "import requests \n",
    "import psycopg\n",
    "import sqlite3\n",
    "import plotly.express as px\n",
    "from sumy.parsers.plaintext import PlaintextParser\n",
    "from sumy.nlp.tokenizers import Tokenizer\n",
    "from sumy.summarizers.lsa import LsaSummarizer\n",
    "from sqlalchemy import create_engine    \n",
    "dotenv.load_dotenv()\n",
    "congresskey = os.getenv('congresskey')\n",
    "postgrespassword = os.getenv('POSTGRES_PASSWORD')"
   ]
  },
  {
   "cell_type": "code",
   "execution_count": 2,
   "metadata": {},
   "outputs": [],
   "source": [
    "ct = contrans()"
   ]
  },
  {
   "cell_type": "code",
   "execution_count": 3,
   "metadata": {},
   "outputs": [],
   "source": [
    "server, engine = ct.connect_to_postgres(ct.POSTGRES_PASSWORD)"
   ]
  },
  {
   "cell_type": "code",
   "execution_count": 5,
   "metadata": {},
   "outputs": [
    {
     "data": {
      "text/plain": [
       "<psycopg.Cursor [COMMAND_OK] [IDLE] (host=localhost database=postgres) at 0x171dec1d0>"
      ]
     },
     "execution_count": 5,
     "metadata": {},
     "output_type": "execute_result"
    }
   ],
   "source": [
    "server.execute(\"CREATE DATABASE contrans;\")"
   ]
  },
  {
   "cell_type": "code",
   "execution_count": null,
   "metadata": {},
   "outputs": [],
   "source": [
    "#read csv\n",
    "# world = pd.read_csv('world.csv')\n",
    "# feed the csv into the database\n",
    "# world.to_sql('world', engine, if_exists='replace', index=False)"
   ]
  },
  {
   "cell_type": "code",
   "execution_count": 6,
   "metadata": {},
   "outputs": [
    {
     "ename": "ProgrammingError",
     "evalue": "(psycopg.errors.UndefinedTable) relation \"members\" does not exist\nLINE 3: FROM members\n             ^\n[SQL: \nSELECT *\nFROM members\n]\n(Background on this error at: https://sqlalche.me/e/20/f405)",
     "output_type": "error",
     "traceback": [
      "\u001b[0;31m---------------------------------------------------------------------------\u001b[0m",
      "\u001b[0;31mUndefinedTable\u001b[0m                            Traceback (most recent call last)",
      "File \u001b[0;32m/opt/anaconda3/envs/pytorch/lib/python3.12/site-packages/sqlalchemy/engine/base.py:1967\u001b[0m, in \u001b[0;36mConnection._exec_single_context\u001b[0;34m(self, dialect, context, statement, parameters)\u001b[0m\n\u001b[1;32m   1966\u001b[0m     \u001b[38;5;28;01mif\u001b[39;00m \u001b[38;5;129;01mnot\u001b[39;00m evt_handled:\n\u001b[0;32m-> 1967\u001b[0m         \u001b[38;5;28mself\u001b[39m\u001b[38;5;241m.\u001b[39mdialect\u001b[38;5;241m.\u001b[39mdo_execute(\n\u001b[1;32m   1968\u001b[0m             cursor, str_statement, effective_parameters, context\n\u001b[1;32m   1969\u001b[0m         )\n\u001b[1;32m   1971\u001b[0m \u001b[38;5;28;01mif\u001b[39;00m \u001b[38;5;28mself\u001b[39m\u001b[38;5;241m.\u001b[39m_has_events \u001b[38;5;129;01mor\u001b[39;00m \u001b[38;5;28mself\u001b[39m\u001b[38;5;241m.\u001b[39mengine\u001b[38;5;241m.\u001b[39m_has_events:\n",
      "File \u001b[0;32m/opt/anaconda3/envs/pytorch/lib/python3.12/site-packages/sqlalchemy/engine/default.py:941\u001b[0m, in \u001b[0;36mDefaultDialect.do_execute\u001b[0;34m(self, cursor, statement, parameters, context)\u001b[0m\n\u001b[1;32m    940\u001b[0m \u001b[38;5;28;01mdef\u001b[39;00m \u001b[38;5;21mdo_execute\u001b[39m(\u001b[38;5;28mself\u001b[39m, cursor, statement, parameters, context\u001b[38;5;241m=\u001b[39m\u001b[38;5;28;01mNone\u001b[39;00m):\n\u001b[0;32m--> 941\u001b[0m     cursor\u001b[38;5;241m.\u001b[39mexecute(statement, parameters)\n",
      "File \u001b[0;32m/opt/anaconda3/envs/pytorch/lib/python3.12/site-packages/psycopg/cursor.py:97\u001b[0m, in \u001b[0;36mCursor.execute\u001b[0;34m(self, query, params, prepare, binary)\u001b[0m\n\u001b[1;32m     96\u001b[0m \u001b[38;5;28;01mexcept\u001b[39;00m e\u001b[38;5;241m.\u001b[39m_NO_TRACEBACK \u001b[38;5;28;01mas\u001b[39;00m ex:\n\u001b[0;32m---> 97\u001b[0m     \u001b[38;5;28;01mraise\u001b[39;00m ex\u001b[38;5;241m.\u001b[39mwith_traceback(\u001b[38;5;28;01mNone\u001b[39;00m)\n\u001b[1;32m     98\u001b[0m \u001b[38;5;28;01mreturn\u001b[39;00m \u001b[38;5;28mself\u001b[39m\n",
      "\u001b[0;31mUndefinedTable\u001b[0m: relation \"members\" does not exist\nLINE 3: FROM members\n             ^",
      "\nThe above exception was the direct cause of the following exception:\n",
      "\u001b[0;31mProgrammingError\u001b[0m                          Traceback (most recent call last)",
      "Cell \u001b[0;32mIn[6], line 5\u001b[0m\n\u001b[1;32m      1\u001b[0m myquery \u001b[38;5;241m=\u001b[39m \u001b[38;5;124m'''\u001b[39m\n\u001b[1;32m      2\u001b[0m \u001b[38;5;124mSELECT *\u001b[39m\n\u001b[1;32m      3\u001b[0m \u001b[38;5;124mFROM members\u001b[39m\n\u001b[1;32m      4\u001b[0m \u001b[38;5;124m'''\u001b[39m\n\u001b[0;32m----> 5\u001b[0m pd\u001b[38;5;241m.\u001b[39mread_sql_query(myquery, con\u001b[38;5;241m=\u001b[39mengine)\n",
      "File \u001b[0;32m/opt/anaconda3/envs/pytorch/lib/python3.12/site-packages/pandas/io/sql.py:526\u001b[0m, in \u001b[0;36mread_sql_query\u001b[0;34m(sql, con, index_col, coerce_float, params, parse_dates, chunksize, dtype, dtype_backend)\u001b[0m\n\u001b[1;32m    523\u001b[0m \u001b[38;5;28;01massert\u001b[39;00m dtype_backend \u001b[38;5;129;01mis\u001b[39;00m \u001b[38;5;129;01mnot\u001b[39;00m lib\u001b[38;5;241m.\u001b[39mno_default\n\u001b[1;32m    525\u001b[0m \u001b[38;5;28;01mwith\u001b[39;00m pandasSQL_builder(con) \u001b[38;5;28;01mas\u001b[39;00m pandas_sql:\n\u001b[0;32m--> 526\u001b[0m     \u001b[38;5;28;01mreturn\u001b[39;00m pandas_sql\u001b[38;5;241m.\u001b[39mread_query(\n\u001b[1;32m    527\u001b[0m         sql,\n\u001b[1;32m    528\u001b[0m         index_col\u001b[38;5;241m=\u001b[39mindex_col,\n\u001b[1;32m    529\u001b[0m         params\u001b[38;5;241m=\u001b[39mparams,\n\u001b[1;32m    530\u001b[0m         coerce_float\u001b[38;5;241m=\u001b[39mcoerce_float,\n\u001b[1;32m    531\u001b[0m         parse_dates\u001b[38;5;241m=\u001b[39mparse_dates,\n\u001b[1;32m    532\u001b[0m         chunksize\u001b[38;5;241m=\u001b[39mchunksize,\n\u001b[1;32m    533\u001b[0m         dtype\u001b[38;5;241m=\u001b[39mdtype,\n\u001b[1;32m    534\u001b[0m         dtype_backend\u001b[38;5;241m=\u001b[39mdtype_backend,\n\u001b[1;32m    535\u001b[0m     )\n",
      "File \u001b[0;32m/opt/anaconda3/envs/pytorch/lib/python3.12/site-packages/pandas/io/sql.py:1836\u001b[0m, in \u001b[0;36mSQLDatabase.read_query\u001b[0;34m(self, sql, index_col, coerce_float, parse_dates, params, chunksize, dtype, dtype_backend)\u001b[0m\n\u001b[1;32m   1779\u001b[0m \u001b[38;5;28;01mdef\u001b[39;00m \u001b[38;5;21mread_query\u001b[39m(\n\u001b[1;32m   1780\u001b[0m     \u001b[38;5;28mself\u001b[39m,\n\u001b[1;32m   1781\u001b[0m     sql: \u001b[38;5;28mstr\u001b[39m,\n\u001b[0;32m   (...)\u001b[0m\n\u001b[1;32m   1788\u001b[0m     dtype_backend: DtypeBackend \u001b[38;5;241m|\u001b[39m Literal[\u001b[38;5;124m\"\u001b[39m\u001b[38;5;124mnumpy\u001b[39m\u001b[38;5;124m\"\u001b[39m] \u001b[38;5;241m=\u001b[39m \u001b[38;5;124m\"\u001b[39m\u001b[38;5;124mnumpy\u001b[39m\u001b[38;5;124m\"\u001b[39m,\n\u001b[1;32m   1789\u001b[0m ) \u001b[38;5;241m-\u001b[39m\u001b[38;5;241m>\u001b[39m DataFrame \u001b[38;5;241m|\u001b[39m Iterator[DataFrame]:\n\u001b[1;32m   1790\u001b[0m \u001b[38;5;250m    \u001b[39m\u001b[38;5;124;03m\"\"\"\u001b[39;00m\n\u001b[1;32m   1791\u001b[0m \u001b[38;5;124;03m    Read SQL query into a DataFrame.\u001b[39;00m\n\u001b[1;32m   1792\u001b[0m \n\u001b[0;32m   (...)\u001b[0m\n\u001b[1;32m   1834\u001b[0m \n\u001b[1;32m   1835\u001b[0m \u001b[38;5;124;03m    \"\"\"\u001b[39;00m\n\u001b[0;32m-> 1836\u001b[0m     result \u001b[38;5;241m=\u001b[39m \u001b[38;5;28mself\u001b[39m\u001b[38;5;241m.\u001b[39mexecute(sql, params)\n\u001b[1;32m   1837\u001b[0m     columns \u001b[38;5;241m=\u001b[39m result\u001b[38;5;241m.\u001b[39mkeys()\n\u001b[1;32m   1839\u001b[0m     \u001b[38;5;28;01mif\u001b[39;00m chunksize \u001b[38;5;129;01mis\u001b[39;00m \u001b[38;5;129;01mnot\u001b[39;00m \u001b[38;5;28;01mNone\u001b[39;00m:\n",
      "File \u001b[0;32m/opt/anaconda3/envs/pytorch/lib/python3.12/site-packages/pandas/io/sql.py:1659\u001b[0m, in \u001b[0;36mSQLDatabase.execute\u001b[0;34m(self, sql, params)\u001b[0m\n\u001b[1;32m   1657\u001b[0m args \u001b[38;5;241m=\u001b[39m [] \u001b[38;5;28;01mif\u001b[39;00m params \u001b[38;5;129;01mis\u001b[39;00m \u001b[38;5;28;01mNone\u001b[39;00m \u001b[38;5;28;01melse\u001b[39;00m [params]\n\u001b[1;32m   1658\u001b[0m \u001b[38;5;28;01mif\u001b[39;00m \u001b[38;5;28misinstance\u001b[39m(sql, \u001b[38;5;28mstr\u001b[39m):\n\u001b[0;32m-> 1659\u001b[0m     \u001b[38;5;28;01mreturn\u001b[39;00m \u001b[38;5;28mself\u001b[39m\u001b[38;5;241m.\u001b[39mcon\u001b[38;5;241m.\u001b[39mexec_driver_sql(sql, \u001b[38;5;241m*\u001b[39margs)\n\u001b[1;32m   1660\u001b[0m \u001b[38;5;28;01mreturn\u001b[39;00m \u001b[38;5;28mself\u001b[39m\u001b[38;5;241m.\u001b[39mcon\u001b[38;5;241m.\u001b[39mexecute(sql, \u001b[38;5;241m*\u001b[39margs)\n",
      "File \u001b[0;32m/opt/anaconda3/envs/pytorch/lib/python3.12/site-packages/sqlalchemy/engine/base.py:1779\u001b[0m, in \u001b[0;36mConnection.exec_driver_sql\u001b[0;34m(self, statement, parameters, execution_options)\u001b[0m\n\u001b[1;32m   1774\u001b[0m execution_options \u001b[38;5;241m=\u001b[39m \u001b[38;5;28mself\u001b[39m\u001b[38;5;241m.\u001b[39m_execution_options\u001b[38;5;241m.\u001b[39mmerge_with(\n\u001b[1;32m   1775\u001b[0m     execution_options\n\u001b[1;32m   1776\u001b[0m )\n\u001b[1;32m   1778\u001b[0m dialect \u001b[38;5;241m=\u001b[39m \u001b[38;5;28mself\u001b[39m\u001b[38;5;241m.\u001b[39mdialect\n\u001b[0;32m-> 1779\u001b[0m ret \u001b[38;5;241m=\u001b[39m \u001b[38;5;28mself\u001b[39m\u001b[38;5;241m.\u001b[39m_execute_context(\n\u001b[1;32m   1780\u001b[0m     dialect,\n\u001b[1;32m   1781\u001b[0m     dialect\u001b[38;5;241m.\u001b[39mexecution_ctx_cls\u001b[38;5;241m.\u001b[39m_init_statement,\n\u001b[1;32m   1782\u001b[0m     statement,\n\u001b[1;32m   1783\u001b[0m     \u001b[38;5;28;01mNone\u001b[39;00m,\n\u001b[1;32m   1784\u001b[0m     execution_options,\n\u001b[1;32m   1785\u001b[0m     statement,\n\u001b[1;32m   1786\u001b[0m     distilled_parameters,\n\u001b[1;32m   1787\u001b[0m )\n\u001b[1;32m   1789\u001b[0m \u001b[38;5;28;01mreturn\u001b[39;00m ret\n",
      "File \u001b[0;32m/opt/anaconda3/envs/pytorch/lib/python3.12/site-packages/sqlalchemy/engine/base.py:1846\u001b[0m, in \u001b[0;36mConnection._execute_context\u001b[0;34m(self, dialect, constructor, statement, parameters, execution_options, *args, **kw)\u001b[0m\n\u001b[1;32m   1844\u001b[0m     \u001b[38;5;28;01mreturn\u001b[39;00m \u001b[38;5;28mself\u001b[39m\u001b[38;5;241m.\u001b[39m_exec_insertmany_context(dialect, context)\n\u001b[1;32m   1845\u001b[0m \u001b[38;5;28;01melse\u001b[39;00m:\n\u001b[0;32m-> 1846\u001b[0m     \u001b[38;5;28;01mreturn\u001b[39;00m \u001b[38;5;28mself\u001b[39m\u001b[38;5;241m.\u001b[39m_exec_single_context(\n\u001b[1;32m   1847\u001b[0m         dialect, context, statement, parameters\n\u001b[1;32m   1848\u001b[0m     )\n",
      "File \u001b[0;32m/opt/anaconda3/envs/pytorch/lib/python3.12/site-packages/sqlalchemy/engine/base.py:1986\u001b[0m, in \u001b[0;36mConnection._exec_single_context\u001b[0;34m(self, dialect, context, statement, parameters)\u001b[0m\n\u001b[1;32m   1983\u001b[0m     result \u001b[38;5;241m=\u001b[39m context\u001b[38;5;241m.\u001b[39m_setup_result_proxy()\n\u001b[1;32m   1985\u001b[0m \u001b[38;5;28;01mexcept\u001b[39;00m \u001b[38;5;167;01mBaseException\u001b[39;00m \u001b[38;5;28;01mas\u001b[39;00m e:\n\u001b[0;32m-> 1986\u001b[0m     \u001b[38;5;28mself\u001b[39m\u001b[38;5;241m.\u001b[39m_handle_dbapi_exception(\n\u001b[1;32m   1987\u001b[0m         e, str_statement, effective_parameters, cursor, context\n\u001b[1;32m   1988\u001b[0m     )\n\u001b[1;32m   1990\u001b[0m \u001b[38;5;28;01mreturn\u001b[39;00m result\n",
      "File \u001b[0;32m/opt/anaconda3/envs/pytorch/lib/python3.12/site-packages/sqlalchemy/engine/base.py:2355\u001b[0m, in \u001b[0;36mConnection._handle_dbapi_exception\u001b[0;34m(self, e, statement, parameters, cursor, context, is_sub_exec)\u001b[0m\n\u001b[1;32m   2353\u001b[0m \u001b[38;5;28;01melif\u001b[39;00m should_wrap:\n\u001b[1;32m   2354\u001b[0m     \u001b[38;5;28;01massert\u001b[39;00m sqlalchemy_exception \u001b[38;5;129;01mis\u001b[39;00m \u001b[38;5;129;01mnot\u001b[39;00m \u001b[38;5;28;01mNone\u001b[39;00m\n\u001b[0;32m-> 2355\u001b[0m     \u001b[38;5;28;01mraise\u001b[39;00m sqlalchemy_exception\u001b[38;5;241m.\u001b[39mwith_traceback(exc_info[\u001b[38;5;241m2\u001b[39m]) \u001b[38;5;28;01mfrom\u001b[39;00m \u001b[38;5;21;01me\u001b[39;00m\n\u001b[1;32m   2356\u001b[0m \u001b[38;5;28;01melse\u001b[39;00m:\n\u001b[1;32m   2357\u001b[0m     \u001b[38;5;28;01massert\u001b[39;00m exc_info[\u001b[38;5;241m1\u001b[39m] \u001b[38;5;129;01mis\u001b[39;00m \u001b[38;5;129;01mnot\u001b[39;00m \u001b[38;5;28;01mNone\u001b[39;00m\n",
      "File \u001b[0;32m/opt/anaconda3/envs/pytorch/lib/python3.12/site-packages/sqlalchemy/engine/base.py:1967\u001b[0m, in \u001b[0;36mConnection._exec_single_context\u001b[0;34m(self, dialect, context, statement, parameters)\u001b[0m\n\u001b[1;32m   1965\u001b[0m                 \u001b[38;5;28;01mbreak\u001b[39;00m\n\u001b[1;32m   1966\u001b[0m     \u001b[38;5;28;01mif\u001b[39;00m \u001b[38;5;129;01mnot\u001b[39;00m evt_handled:\n\u001b[0;32m-> 1967\u001b[0m         \u001b[38;5;28mself\u001b[39m\u001b[38;5;241m.\u001b[39mdialect\u001b[38;5;241m.\u001b[39mdo_execute(\n\u001b[1;32m   1968\u001b[0m             cursor, str_statement, effective_parameters, context\n\u001b[1;32m   1969\u001b[0m         )\n\u001b[1;32m   1971\u001b[0m \u001b[38;5;28;01mif\u001b[39;00m \u001b[38;5;28mself\u001b[39m\u001b[38;5;241m.\u001b[39m_has_events \u001b[38;5;129;01mor\u001b[39;00m \u001b[38;5;28mself\u001b[39m\u001b[38;5;241m.\u001b[39mengine\u001b[38;5;241m.\u001b[39m_has_events:\n\u001b[1;32m   1972\u001b[0m     \u001b[38;5;28mself\u001b[39m\u001b[38;5;241m.\u001b[39mdispatch\u001b[38;5;241m.\u001b[39mafter_cursor_execute(\n\u001b[1;32m   1973\u001b[0m         \u001b[38;5;28mself\u001b[39m,\n\u001b[1;32m   1974\u001b[0m         cursor,\n\u001b[0;32m   (...)\u001b[0m\n\u001b[1;32m   1978\u001b[0m         context\u001b[38;5;241m.\u001b[39mexecutemany,\n\u001b[1;32m   1979\u001b[0m     )\n",
      "File \u001b[0;32m/opt/anaconda3/envs/pytorch/lib/python3.12/site-packages/sqlalchemy/engine/default.py:941\u001b[0m, in \u001b[0;36mDefaultDialect.do_execute\u001b[0;34m(self, cursor, statement, parameters, context)\u001b[0m\n\u001b[1;32m    940\u001b[0m \u001b[38;5;28;01mdef\u001b[39;00m \u001b[38;5;21mdo_execute\u001b[39m(\u001b[38;5;28mself\u001b[39m, cursor, statement, parameters, context\u001b[38;5;241m=\u001b[39m\u001b[38;5;28;01mNone\u001b[39;00m):\n\u001b[0;32m--> 941\u001b[0m     cursor\u001b[38;5;241m.\u001b[39mexecute(statement, parameters)\n",
      "File \u001b[0;32m/opt/anaconda3/envs/pytorch/lib/python3.12/site-packages/psycopg/cursor.py:97\u001b[0m, in \u001b[0;36mCursor.execute\u001b[0;34m(self, query, params, prepare, binary)\u001b[0m\n\u001b[1;32m     93\u001b[0m         \u001b[38;5;28mself\u001b[39m\u001b[38;5;241m.\u001b[39m_conn\u001b[38;5;241m.\u001b[39mwait(\n\u001b[1;32m     94\u001b[0m             \u001b[38;5;28mself\u001b[39m\u001b[38;5;241m.\u001b[39m_execute_gen(query, params, prepare\u001b[38;5;241m=\u001b[39mprepare, binary\u001b[38;5;241m=\u001b[39mbinary)\n\u001b[1;32m     95\u001b[0m         )\n\u001b[1;32m     96\u001b[0m \u001b[38;5;28;01mexcept\u001b[39;00m e\u001b[38;5;241m.\u001b[39m_NO_TRACEBACK \u001b[38;5;28;01mas\u001b[39;00m ex:\n\u001b[0;32m---> 97\u001b[0m     \u001b[38;5;28;01mraise\u001b[39;00m ex\u001b[38;5;241m.\u001b[39mwith_traceback(\u001b[38;5;28;01mNone\u001b[39;00m)\n\u001b[1;32m     98\u001b[0m \u001b[38;5;28;01mreturn\u001b[39;00m \u001b[38;5;28mself\u001b[39m\n",
      "\u001b[0;31mProgrammingError\u001b[0m: (psycopg.errors.UndefinedTable) relation \"members\" does not exist\nLINE 3: FROM members\n             ^\n[SQL: \nSELECT *\nFROM members\n]\n(Background on this error at: https://sqlalche.me/e/20/f405)"
     ]
    }
   ],
   "source": [
    "myquery = '''\n",
    "SELECT *\n",
    "FROM members\n",
    "'''\n",
    "pd.read_sql_query(myquery, con=engine)  "
   ]
  },
  {
   "cell_type": "code",
   "execution_count": 6,
   "metadata": {},
   "outputs": [],
   "source": [
    "r =ct.summarize_news('N000188', engine)"
   ]
  },
  {
   "cell_type": "code",
   "execution_count": 8,
   "metadata": {},
   "outputs": [
    {
     "data": {
      "text/plain": [
       "{'status': 'ok', 'totalResults': 0, 'articles': []}"
      ]
     },
     "execution_count": 8,
     "metadata": {},
     "output_type": "execute_result"
    }
   ],
   "source": [
    "r.json()"
   ]
  },
  {
   "cell_type": "code",
   "execution_count": 31,
   "metadata": {},
   "outputs": [
    {
     "data": {
      "text/plain": [
       "{'status': 'ok',\n",
       " 'totalResults': 32,\n",
       " 'articles': [{'source': {'id': 'breitbart-news', 'name': 'Breitbart News'},\n",
       "   'author': 'Bradley Jaye, Bradley Jaye',\n",
       "   'title': 'Tim Kaine Projected to Win Reelection to Senate',\n",
       "   'description': 'Sen. Tim Kaine (D-VA) won reelection in the Commonwealth of Virginia on Tuesday night, defeating Republican challenger Hung Cao.\\nThe post Tim Kaine Projected to Win Reelection to Senate appeared first on Breitbart.',\n",
       "   'url': 'https://www.breitbart.com/politics/2024/11/06/tim-kaine-projected-to-win-reelection-to-senate/',\n",
       "   'urlToImage': 'https://media.breitbart.com/media/2024/11/tim-paine-640x335.jpg',\n",
       "   'publishedAt': '2024-11-06T08:06:54Z',\n",
       "   'content': 'Sen. Tim Kaine (D-VA) won reelection in the Commonwealth of Virginia on Tuesday night, defeating Republican challenger Hung Cao.\\r\\nKaines seat was considered relatively safe, although Republicans were… [+2104 chars]'},\n",
       "  {'source': {'id': 'new-york-magazine', 'name': 'New York Magazine'},\n",
       "   'author': 'Jonathan Chait',\n",
       "   'title': 'Trump Can Prosecute Anybody He Wants, Transition Leader Says',\n",
       "   'description': 'Mark Paoletta, who is helping plan the Trump administration’s Justice Department staffing during the transition, repeated his belief that Trump has the right to direct the Department to charge, or not charge, anybody he likes.',\n",
       "   'url': 'http://nymag.com/intelligencer/article/trump-justice-department-transition-prosecute-enemies-list-mark-paoletta.html',\n",
       "   'urlToImage': 'https://pyxis.nymag.com/v1/imgs/8ae/9c1/bbc26da02fc5963d663ba1b12cc97ef192-trump-judges.1x.rsocial.w1200.jpg',\n",
       "   'publishedAt': '2024-11-08T14:15:11Z',\n",
       "   'content': 'Mark Paoletta, who is helping plan the Trump administrations Justice Department staffing during the transition, repeated his belief that Trump has the right to direct the department to charge, or not… [+3609 chars]'},\n",
       "  {'source': {'id': None, 'name': 'Vanity Fair'},\n",
       "   'author': 'Savannah Walsh',\n",
       "   'title': 'Why That Kamala Harris Saturday Night Live Appearance Triggered an FCC Response',\n",
       "   'description': 'After a Republican Federal Communications Commissioner claimed that Harris’s guest appearance was a “clear and blatant effort to violate the FCC’s Equal Time rule,” NBC aired the same Donald Trump campaign ad twice on Sunday.',\n",
       "   'url': 'https://www.vanityfair.com/hollywood/story/why-that-kamala-harris-saturday-night-live-appearance-triggered-an-fcc-response',\n",
       "   'urlToImage': 'https://media.vanityfair.com/photos/6728d9cff3eb1b98b130ed4d/16:9/w_1280,c_limit/NUP_206143_00003.jpg',\n",
       "   'publishedAt': '2024-11-04T17:00:24Z',\n",
       "   'content': 'As the 2024 presidential race nears the finish line, the battle for equal time on one of TVs top networks rages on. In its final episode before election day, Saturday Night Live opened with a surpris… [+2691 chars]'},\n",
       "  {'source': {'id': None, 'name': 'Nakedcapitalism.com'},\n",
       "   'author': 'Conor Gallagher',\n",
       "   'title': 'Links 10/23/2024',\n",
       "   'description': None,\n",
       "   'url': 'https://www.nakedcapitalism.com/2024/10/links-10-23-2024.html',\n",
       "   'urlToImage': 'https://www.nakedcapitalism.com/wp-content/uploads/2024/10/Screenshot-2024-10-22-at-10.12.08\\u202fPM-817x1024.png',\n",
       "   'publishedAt': '2024-10-23T10:55:41Z',\n",
       "   'content': 'What is the piebald deer, the rare animal recently spotted in Western Pennsylvania? CBS Pittsburgh\\r\\nKentucky Man Declared Brain Dead Wakes Up Moments Before Organ Harvesting ZME Science\\r\\nHow Zombies … [+6634 chars]'},\n",
       "  {'source': {'id': None, 'name': 'The National Interest '},\n",
       "   'author': 'Peter Suciu',\n",
       "   'title': 'Columbia-Class and Virginia-Class Submarines: Overbudget and Behind Schedule (Why?)',\n",
       "   'description': \"What You Need to Know: U.S. senators, led by Sen. Tim Kaine, are demanding clarity on the Navy's Shipyard Accountability and Workforce Support (SAWS) plan amid escalating delays in submarine construction, including for Virginia-class and Columbia-class submar…\",\n",
       "   'url': 'https://nationalinterest.org/blog/buzz/columbia-class-and-virginia-class-submarines-overbudget-and-behind-schedule-why-213458',\n",
       "   'urlToImage': 'https://nationalinterest.org/sites/default/files/main_images/Columbia-Class%20SSBN%20Submarine-min.jpg',\n",
       "   'publishedAt': '2024-10-29T22:30:41Z',\n",
       "   'content': \"What You Need to Know: U.S. senators, led by Sen. Tim Kaine, are demanding clarity on the Navy's Shipyard Accountability and Workforce Support (SAWS) plan amid escalating delays in submarine construc… [+6391 chars]\"},\n",
       "  {'source': {'id': None, 'name': 'ARLnow'},\n",
       "   'author': 'Dan Egitto',\n",
       "   'title': 'LIVE: Northern Virginia and statewide election results',\n",
       "   'description': \"As election results roll in tonight, ARLnow will be tracking the outcome of races in Arlington, Northern Virginia and across the Commonwealth. Voters are casting ballots in all 11 of Virginia's congressional districts this year, with majority control of both …\",\n",
       "   'url': 'https://www.arlnow.com/2024/11/05/live-northern-virginia-and-statewide-election-results/',\n",
       "   'urlToImage': 'https://s26551.pcdn.co/wp-content/uploads/2024/11/DSC_5084.jpeg',\n",
       "   'publishedAt': '2024-11-05T23:00:10Z',\n",
       "   'content': 'As election results roll in tonight, ARLnow will be tracking the outcome of races in Arlington, Northern Virginia and across the Commonwealth.\\r\\nVoters are casting ballots in all 11 of Virginia’s cong… [+634 chars]'},\n",
       "  {'source': {'id': None, 'name': 'Foreign Policy'},\n",
       "   'author': 'Allison Meakem',\n",
       "   'title': 'In Virginia, a Vietnamese American Community Divided',\n",
       "   'description': 'A longshot Republican challenger to Sen. Tim Kaine appeals to fears about communism—and sees mixed results.',\n",
       "   'url': 'https://foreignpolicy.com/2024/10/30/election-virginia-vietnamese-americans-kaine-cao-senate-republican-trump/',\n",
       "   'urlToImage': 'https://foreignpolicy.com/wp-content/uploads/2024/10/1-virginia-election-vietnamese-GOP-AP24239548837847.jpg?w=1000',\n",
       "   'publishedAt': '2024-10-30T18:05:15Z',\n",
       "   'content': 'FALLS CHURCH, VirginiaOn a warm Sunday this month at the Eden Center, a strip mall that serves as a hub for Virginias Vietnamese American community, storefronts were decked in posters backing former … [+11344 chars]'},\n",
       "  {'source': {'id': None, 'name': 'ARLnow'},\n",
       "   'author': 'Scott McCaffrey',\n",
       "   'title': 'Falls Church elected leaders wary of Trump return, GOP dominance in Congress',\n",
       "   'description': 'Add Falls Church to the list of Northern Virginia localities where elected officials are worried about implications of Donald Trump\\'s victory. \"Things may very well change fairly dramatically,\" City Council member David Snyder said last Wednesday (Nov. 6), th…',\n",
       "   'url': 'https://www.arlnow.com/2024/11/12/falls-church-elected-leaders-wary-of-trump-return-gop-dominance-in-congress/',\n",
       "   'urlToImage': 'https://s26551.pcdn.co/wp-content/uploads/2024/08/1-2-1.jpg',\n",
       "   'publishedAt': '2024-11-12T14:00:28Z',\n",
       "   'content': 'Add Falls Church to the list of Northern Virginia localities where elected officials are worried about implications of Donald Trump’s victory.\\r\\n“Things may very well change fairly dramatically,” City… [+2223 chars]'},\n",
       "  {'source': {'id': None, 'name': 'ARLnow'},\n",
       "   'author': 'ARLnow.com',\n",
       "   'title': 'Morning Notes for October 25, 2024',\n",
       "   'description': \"Ruthie's Opening Fairfax Location -- Popular Arlington eatery Ruthie’s All Day has picked Fairfax Corner for its second location. Ruthie’s will move into a space at 11951 Grand Commons Avenue, the company announced Thursday. The new restaurant, which follows …\",\n",
       "   'url': 'https://www.arlnow.com/2024/10/25/morning-notes-for-october-25-2024/',\n",
       "   'urlToImage': 'https://s26551.pcdn.co/wp-content/uploads/2024/10/IMG_3214.jpeg',\n",
       "   'publishedAt': '2024-10-25T11:30:19Z',\n",
       "   'content': 'Trees in Glebe Road Park (staff photo)\\r\\nRuthie’s Opening Fairfax Location — Popular Arlington eatery Ruthies All Day has picked Fairfax Corner for its second location. Ruthies will move into a space … [+3665 chars]'},\n",
       "  {'source': {'id': None, 'name': 'Boston Herald'},\n",
       "   'author': 'Gary Franks',\n",
       "   'title': 'Franks: Dems fumbled by passing over Hillary for Harris',\n",
       "   'description': 'Trump is fortunate that he is not facing a rematch with Clinton, the strongest and most qualified Democratic candidate.',\n",
       "   'url': 'https://www.bostonherald.com/2024/10/25/franks-dems-fumbled-by-passing-over-hillary-for-harris/',\n",
       "   'urlToImage': 'https://www.bostonherald.com/wp-content/uploads/2024/10/OPED-american-voices-franks-GET.jpg?w=1024&h=683',\n",
       "   'publishedAt': '2024-10-25T04:56:17Z',\n",
       "   'content': 'In 1976 Senator Ted Kennedy was asked a rather simple question – Why are you running for president? Kennedy’s answer was as incoherent as Vice President Kamala Harris’s remark on being different from… [+5651 chars]'},\n",
       "  {'source': {'id': None, 'name': 'Boston Herald'},\n",
       "   'author': 'Associated Press',\n",
       "   'title': 'Trump’s mainstream picks for top foreign policy posts could reassure allies — and worry China',\n",
       "   'description': 'Trump announced Sen. Marco Rubio for secretary of state and Rep. Mike Waltz for national security adviser.',\n",
       "   'url': 'https://www.bostonherald.com/2024/11/14/trumps-foreign-policy-picks-china/',\n",
       "   'urlToImage': 'https://www.bostonherald.com/wp-content/uploads/2024/11/Trump_Transition_76102.jpg?w=1024&h=682',\n",
       "   'publishedAt': '2024-11-14T17:27:44Z',\n",
       "   'content': 'By ELLEN KNICKMEYER and DIDI TANG, Associated Press\\r\\nWASHINGTON (AP) — President-elect Donald Trump is famously unconventional, but he made conventional picks for his two top foreign policy positions… [+7203 chars]'},\n",
       "  {'source': {'id': 'nbc-news', 'name': 'NBC News'},\n",
       "   'author': 'Ben Kamisar and Bridget Bowman and Alexandra Marquez',\n",
       "   'title': 'An hour-by-hour guide to watching the races on election night',\n",
       "   'description': 'Which states and races are closing at which times in the fight for president, Senate and House, as well as some key ballot measure battles.',\n",
       "   'url': 'https://www.nbcnews.com/politics/2024-election/election-day-polls-close-every-state-what-watch-rcna175479',\n",
       "   'urlToImage': 'https://media-cldnry.s-nbcnews.com/image/upload/t_nbcnews-fp-1200-630,f_auto,q_auto:best/rockcms/2024-10/241029-michigan-early-voting-vl-1222p-2c446c.jpg',\n",
       "   'publishedAt': '2024-11-05T10:00:00Z',\n",
       "   'content': \"When the polls start closing on Election Day, a wave of vote totals showing the results of this long campaign will start pouring in.\\r\\nBut we won't get everything at the same time from the same place,… [+31981 chars]\"},\n",
       "  {'source': {'id': 'abc-news', 'name': 'ABC News'},\n",
       "   'author': 'ELLEN KNICKMEYER Associated Press, DIDI TANG Associated Press',\n",
       "   'title': \"Trump's mainstream picks for top foreign policy posts could reassure allies — and worry China\",\n",
       "   'description': 'China watchers know Marco Rubio and Mike Waltz as “the Florida faction” in foreign policy — two Florida lawmakers who share especially tough positions on China',\n",
       "   'url': 'https://abcnews.go.com/Politics/wireStory/trumps-mainstream-picks-top-foreign-policy-posts-reassure-115848972',\n",
       "   'urlToImage': 'https://i.abcnewsfe.com/a/c9c7d305-0651-4d75-b356-89182bce6356/wirestory_6179fa4a34e8c1768c75ad70b55b17cc_16x9.jpg?w=1600',\n",
       "   'publishedAt': '2024-11-14T05:18:28Z',\n",
       "   'content': 'WASHINGTON -- President-elect Donald Trump is famously unconventional, but he made conventional picks for his two top foreign policy positions. That could be reassuring to American allies, while Chin… [+6724 chars]'},\n",
       "  {'source': {'id': 'the-times-of-india', 'name': 'The Times of India'},\n",
       "   'author': 'AP',\n",
       "   'title': \"Trump's mainstream picks for top foreign policy posts could reassure allies - and worry China\",\n",
       "   'description': \"President-elect Donald Trump selected seasoned politicians Marco Rubio as Secretary of State and Mike Waltz as National Security Advisor. Both are considered hawkish on China and Iran, aligning with Trump's stance, but have differed with him on issues like Ru…\",\n",
       "   'url': 'https://economictimes.indiatimes.com/news/international/global-trends/trumps-mainstream-picks-for-top-foreign-policy-posts-could-reassure-allies-and-worry-china/articleshow/115284534.cms',\n",
       "   'urlToImage': 'https://img.etimg.com/thumb/msid-115284576,width-1200,height-630,imgsize-335276,overlay-economictimes/articleshow.jpg',\n",
       "   'publishedAt': '2024-11-14T06:19:25Z',\n",
       "   'content': 'US President-elect Donald Trump is famously unconventional, but he made conventional picks for his two top foreign policy positions. That could be reassuring to American allies, while China and Iran … [+6661 chars]'},\n",
       "  {'source': {'id': None, 'name': 'Richmond.com'},\n",
       "   'author': 'MICHAEL MARTZ Richmond Times-Dispatch',\n",
       "   'title': 'Sen. Tim Kaine wins 3rd term in Washington',\n",
       "   'description': 'Sen. Tim Kaine, D-Va., captured a third term in the U.S. Senate by a wide margin over Republican challenger Hung Cao.',\n",
       "   'url': 'https://richmond.com/news/local/government-politics/elections/tim-kaine-hung-cao-virginia-us-senate/article_315c08cc-90bc-11ef-81f9-7bb1bf2aff88.html',\n",
       "   'urlToImage': 'https://bloximages.newyork1.vip.townnews.com/richmond.com/content/tncms/assets/v3/editorial/3/15/315c08cc-90bc-11ef-81f9-7bb1bf2aff88/671818dbc859e.preview.jpg?crop=920%2C483%2C0%2C11&resize=920%2C483&order=crop%2Cresize',\n",
       "   'publishedAt': '2024-11-06T08:40:29Z',\n",
       "   'content': 'Update:\\xa0Democratic U.S. Sen. Tim Kaine\\xa0of Virginia won reelection to his third term Tuesday, defeating\\xa0Republican challenger Hung Cao.\\r\\nCao, a 25-year Navy veteran whose past political experience was… [+13894 chars]'},\n",
       "  {'source': {'id': None, 'name': 'Richmond.com'},\n",
       "   'author': 'MICHAEL MARTZ Richmond Times-Dispatch',\n",
       "   'title': 'Rep. Gerry Connolly reveals cancer treatment after reelection',\n",
       "   'description': 'Rep. Gerry Connolly, D-11th, a Northern Virginia political powerhouse for decades, announced Thursday that he has been diagnosed with esophageal cancer and would begin treatment immediately.',\n",
       "   'url': 'https://richmond.com/news/state-regional/government-politics/virginia-gerry-connolly-congress-cancer/article_e6dde85e-9d15-11ef-a51b-3bf325576014.html',\n",
       "   'urlToImage': 'https://bloximages.newyork1.vip.townnews.com/richmond.com/content/tncms/assets/v3/editorial/e/6d/e6dde85e-9d15-11ef-a51b-3bf325576014/672cdbb3d42a8.preview.jpg?crop=1763%2C926%2C0%2C124&resize=1200%2C630&order=crop%2Cresize',\n",
       "   'publishedAt': '2024-11-07T16:53:00Z',\n",
       "   'content': 'Rep. Gerry Connolly, D-11th, a Northern Virginia political powerhouse for decades, announced Thursday that he has been diagnosed with esophageal cancer and would begin treatment immediately.\\r\\nConnoll… [+5321 chars]'},\n",
       "  {'source': {'id': None, 'name': 'CounterPunch'},\n",
       "   'author': 'Paul Street',\n",
       "   'title': 'Ten Principles for the Coming Resistance to MAGA',\n",
       "   'description': 'The entire US system must be dismantled if burning children in a hospital is the lesser evil. – Hadi Nasrallah, October 15, 2024 Note to readers: The author is aware that the coming election’s outcome is uncertain and that Kamala Harris could squeak out a hig…',\n",
       "   'url': 'https://www.counterpunch.org/2024/10/18/ten-draft-principles-for-the-coming-resistance/',\n",
       "   'urlToImage': 'https://www.counterpunch.org/wp-content/uploads/2024/10/jon-tyson-uuH1wLos0FM-unsplash-1-680x506.jpg',\n",
       "   'publishedAt': '2024-10-18T05:53:20Z',\n",
       "   'content': 'Image by Jon Tyson.\\r\\nThe entire US system must be dismantled if burning children in a hospital is the lesser evil.\\r\\n– Hadi Nasrallah, October 15, 2024\\r\\nNote to readers: The author is aware that the c… [+23244 chars]'},\n",
       "  {'source': {'id': None, 'name': 'Freerepublic.com'},\n",
       "   'author': 'Gateway Pundit',\n",
       "   'title': 'News Outlet Goes to Tim Walz’s Hometown in Minnesota and Everyone They Talk to is Voting for Trump (VIDEO)',\n",
       "   'description': 'Alpha News is based in Minnesota. They recently sent a reporter to Mankato, Tim Walz’s hometown in the state, and every person they interviewed is voting for Donald Trump. Can you even imagine what will happen if Trump wins Minnesota while Kamala Harris is ru…',\n",
       "   'url': 'https://freerepublic.com/focus/f-bloggers/4274970/posts',\n",
       "   'urlToImage': None,\n",
       "   'publishedAt': '2024-11-01T13:00:43Z',\n",
       "   'content': 'Skip to comments.\\r\\nNews Outlet Goes to Tim Walzs Hometown in Minnesota and Everyone They Talk to is Voting for Trump (VIDEO)Gateway Pundit ^\\r\\n | October 31, 2024\\r\\n | Staff\\r\\nPosted on 11/01/2024 6:00:… [+6317 chars]'},\n",
       "  {'source': {'id': None, 'name': 'Richmond.com'},\n",
       "   'author': 'JEFF E. SCHAPIRO Richmond Times-Dispatch',\n",
       "   'title': 'Schapiro: For GOP, can loyalty to Va. trump loyalty to 47?',\n",
       "   'description': \"Gov. Glenn Youngkin and his fellow Republicans in Virginia's congressional delegation could face some difficult choices: siding with the new president or siding with the Old Dominion.\",\n",
       "   'url': 'https://richmond.com/news/state-regional/government-politics/trump-election-youngkin-impact-virginia-federal-workforce/article_82972af2-9dc1-11ef-8e10-4f145419da12.html',\n",
       "   'urlToImage': 'https://bloximages.newyork1.vip.townnews.com/richmond.com/content/tncms/assets/v3/editorial/8/29/82972af2-9dc1-11ef-8e10-4f145419da12/672df4346131e.preview.jpg?crop=1920%2C1008%2C0%2C35&resize=1200%2C630&order=crop%2Cresize',\n",
       "   'publishedAt': '2024-11-09T17:30:00Z',\n",
       "   'content': 'The numbers in Virginia were never promising for candidate Donald Trump, but thats never stopped him as president from doing a number on Virginia, a state that this past week rejected him a third tim… [+14563 chars]'},\n",
       "  {'source': {'id': None, 'name': 'Freerepublic.com'},\n",
       "   'author': 'Red State',\n",
       "   'title': 'One Last Time: Wargaming the Senate 2024 Race',\n",
       "   'description': 'With a little over a week to go, there is one major federal issue I have not recently wargamed: The United States Senate. The Senate is vital to the implementation of any presidential agenda; not only does this upper house have an up-or-down on all legislatio…',\n",
       "   'url': 'https://freerepublic.com/focus/f-bloggers/4273923/posts',\n",
       "   'urlToImage': None,\n",
       "   'publishedAt': '2024-10-28T03:39:36Z',\n",
       "   'content': 'Skip to comments.\\r\\nOne Last Time: Wargaming the Senate 2024 RaceRed State ^\\r\\n | 10/27/2024\\r\\n | Ward Clark\\r\\nPosted on 10/27/2024 8:39:36 PM PDT by SeekAndFind\\r\\nWith a little over a week to go, there i… [+8370 chars]'},\n",
       "  {'source': {'id': None, 'name': 'Freerepublic.com'},\n",
       "   'author': 'AmmoLand',\n",
       "   'title': 'Israel Disarmed by Mark W. Smith | Book Review',\n",
       "   'description': 'Mark Smith has written a thoughtful examination of how disarmament by the State of Israel enabled the most horrific massacre of Jews since World War II. At the 2024 Gun Rights Policy Conference in San Diego, Mark Smith was giving away copies of his latest boo…',\n",
       "   'url': 'https://freerepublic.com/focus/f-bloggers/4274424/posts',\n",
       "   'urlToImage': None,\n",
       "   'publishedAt': '2024-10-30T11:20:47Z',\n",
       "   'content': 'Skip to comments.\\r\\nIsrael Disarmed by Mark W. Smith | Book ReviewAmmoLand ^\\r\\n | October 25, 2024\\r\\n | Dean Weingarten\\r\\nPosted on 10/30/2024 4:20:47 AM PDT by marktwain\\r\\nMark Smith has written a though… [+9056 chars]'},\n",
       "  {'source': {'id': None, 'name': 'Richmond.com'},\n",
       "   'author': '',\n",
       "   'title': 'Recap: What made news last week across Virginia',\n",
       "   'description': 'A look back at what made headlines last week across Virginia.',\n",
       "   'url': 'https://richmond.com/news/state-regional/recap-what-made-news-last-week-across-virginia/article_e5c0264c-9d17-11ef-9a7e-8f73d61fb7c5.html',\n",
       "   'urlToImage': 'https://bloximages.newyork1.vip.townnews.com/richmond.com/content/tncms/assets/v3/editorial/e/5c/e5c0264c-9d17-11ef-9a7e-8f73d61fb7c5/672d44dfe7e57.preview.jpg?crop=1763%2C926%2C0%2C124&resize=1200%2C630&order=crop%2Cresize',\n",
       "   'publishedAt': '2024-11-10T17:00:00Z',\n",
       "   'content': 'Lydia Harden watches as results are reported during an election night party for Sen. Tim Kaine, D-Va., at the Hippodrome Theater in Richmond on Tuesday. Kaine won a third term, defeating Republican c… [+8541 chars]'},\n",
       "  {'source': {'id': None, 'name': 'Richmond.com'},\n",
       "   'author': 'MICHAEL MARTZ AND ANDREW CAIN Richmond Times-Dispatch',\n",
       "   'title': \"Some of Trump's Cabinet picks have Virginia ties\",\n",
       "   'description': \"The president-elect's nominees with Virginia links range from Attorney General nominee Matt Gaetz and HHS pick Robert Kennedy Jr., to Rep. Mike Waltz for National Security Adviser and Sen. Marco Rubio for Secretary of State.\",\n",
       "   'url': 'https://richmond.com/news/state-regional/government-politics/virginia-trump-cabinet-gaetz-kennedy-kaine-warner/article_91dbf9c6-a347-11ef-99e8-bbaccfa89dad.html',\n",
       "   'urlToImage': 'https://bloximages.newyork1.vip.townnews.com/richmond.com/content/tncms/assets/v3/editorial/9/1d/91dbf9c6-a347-11ef-99e8-bbaccfa89dad/6737fba9d1a8e.preview.jpg?crop=1761%2C925%2C0%2C125&resize=1200%2C630&order=crop%2Cresize',\n",
       "   'publishedAt': '2024-11-17T11:45:00Z',\n",
       "   'content': \"Gov. Glenn Youngkin has taken himself out of the running for President-elect Donald Trump's Cabinet, but a number of Trump's picks have Virginia ties - including two of the most controversial.\\r\\nMatt … [+28943 chars]\"},\n",
       "  {'source': {'id': None, 'name': 'The Daily Caller'},\n",
       "   'author': 'Mike Davis',\n",
       "   'title': 'MIKE DAVIS: Restoring Faith In Our Elections Starts With Eradicating Senseless Democrat Rules',\n",
       "   'description': 'We have reached the final days of this grueling election cycle, and Trump and Harris are barnstorming battleground states trying to scrounge up every last vote.',\n",
       "   'url': 'https://dailycaller.com/2024/11/04/mike-davis-election-day-democrat-virginia-supreme-court-proof-citizenship/',\n",
       "   'urlToImage': 'https://cdn01.dailycaller.com/wp-content/uploads/2024/11/GettyImages-1431365270-scaled-e1730741575362.jpg',\n",
       "   'publishedAt': '2024-11-04T17:57:27Z',\n",
       "   'content': 'We have reached the final days of this grueling election cycle, and President Donald Trump and Kamala Harris are barnstorming battleground states trying to scrounge up every last vote. Legal barnstor… [+4746 chars]'},\n",
       "  {'source': {'id': 'breitbart-news', 'name': 'Breitbart News'},\n",
       "   'author': 'Nick Gilbertson, Nick Gilbertson',\n",
       "   'title': 'Eleven Races Will Determine Who Takes Control of the Next Senate',\n",
       "   'description': 'The outcomes of 11 critical races will determine which party controls the Senate, and the GOP is in a prime position to win a multi-seat majority.\\nThe post Eleven Races Will Determine Who Takes Control of the Next Senate appeared first on Breitbart.',\n",
       "   'url': 'https://www.breitbart.com/2024-election/2024/11/04/eleven-races-will-determine-who-takes-control-next-senate/',\n",
       "   'urlToImage': 'https://media.breitbart.com/media/2024/11/people-voting-640x335.jpg',\n",
       "   'publishedAt': '2024-11-04T19:52:32Z',\n",
       "   'content': 'The outcomes of eleven critical races will determine which party controls the United States Senate in the next Congress, and Republicans are in a prime position to win a multi-seat majority.\\r\\nDemocra… [+4591 chars]'},\n",
       "  {'source': {'id': None, 'name': 'Richmond.com'},\n",
       "   'author': 'THE TIMES-DISPATCH',\n",
       "   'title': \"Live updates: What races on Virginia's ballot have been decided; Virginia GOP congratulates Trump\",\n",
       "   'description': 'This is coverage of Election Day 2024 from The Times-Dispatch newsroom.',\n",
       "   'url': 'https://richmond.com/news/state-regional/government-politics/elections/voting-election-virginia-polls-donald-trump-kamala-harris-richmond-mayor-city-council-us-senate/article_82530822-9619-11ef-b9ed-f790029c2b50.html',\n",
       "   'urlToImage': 'https://bloximages.newyork1.vip.townnews.com/richmond.com/content/tncms/assets/v3/editorial/8/25/82530822-9619-11ef-b9ed-f790029c2b50/672b0bf76fa7b.preview.jpg?crop=1763%2C926%2C0%2C124&resize=1200%2C630&order=crop%2Cresize',\n",
       "   'publishedAt': '2024-11-06T06:48:00Z',\n",
       "   'content': 'Follow this article for election updates from The Times-Dispatch newsroom.\\xa0\\r\\n3:01 a.m.:\\xa0Donald Trump won Pennsylvania early Wednesday, putting him just three electoral votes shy of defeating Kamala H… [+43907 chars]'},\n",
       "  {'source': {'id': None, 'name': 'Richmond.com'},\n",
       "   'author': 'MICHAEL MARTZ Richmond Times-Dispatch',\n",
       "   'title': 'Virginia has three new congressmen, but Dems keep advantage',\n",
       "   'description': \"Virginia's congressional delegation will look the same politically in the next Congress - six Democrats, five Republicans - but three of the faces will change.\",\n",
       "   'url': 'https://richmond.com/news/state-regional/government-politics/elections/virginia-vindman-subramanyam-mcguire/article_29fbe16a-9c60-11ef-bef9-4f706661be41.html',\n",
       "   'urlToImage': 'https://bloximages.newyork1.vip.townnews.com/richmond.com/content/tncms/assets/v3/editorial/2/9f/29fbe16a-9c60-11ef-bef9-4f706661be41/672bbbcf3589d.preview.jpg?crop=1763%2C926%2C0%2C124&resize=1200%2C630&order=crop%2Cresize',\n",
       "   'publishedAt': '2024-11-06T20:24:00Z',\n",
       "   'content': 'Virginia congressional delegation will look the same politically in the next Congress - six Democrats, five Republicans - but three of the faces will change.\\r\\nDemocrats Eugene Vindman and Suhas Subra… [+7291 chars]'},\n",
       "  {'source': {'id': 'fox-news', 'name': 'Fox News'},\n",
       "   'author': 'Charles Creitz',\n",
       "   'title': \"DOJ once OK'd law at center of Youngkin voter roll-culling order feds now suing to block\",\n",
       "   'description': \"The state law at the center of an election security order Gov. Glenn Youngkin is now being sued by the feds over was previously given the DOJ's blessing.\",\n",
       "   'url': 'https://www.foxnews.com/politics/doj-pre-cleared-law-center-youngkin-voter-roll-culling-order-feds-now-suing-block',\n",
       "   'urlToImage': 'https://static.foxnews.com/foxnews.com/content/uploads/2024/07/RNC-Donald-Trump-Day-1_74.jpg',\n",
       "   'publishedAt': '2024-10-20T12:44:13Z',\n",
       "   'content': \"The Justice Department once green lit the very election reform law it is now suing Virginia over, a measure aimed at removing noncitizens from the commonwealth's voter rolls, Fox News Digital has lea… [+6832 chars]\"},\n",
       "  {'source': {'id': None, 'name': 'Richmond.com'},\n",
       "   'author': 'JEFF E. SCHAPIRO Richmond Times-Dispatch',\n",
       "   'title': 'Schapiro: Seaside district is no resort for Virginia Democrats',\n",
       "   'description': \"Winning two out of three ain't bad, but among Virginia's battleground congressional districts, one - on the Atlantic coast - is looking out of reach for Democrats.\",\n",
       "   'url': 'https://richmond.com/news/state-regional/government-politics/kiggans-smasal-2nd-district-seaside-democrats-republicans/article_c313c2ce-8d64-11ef-825d-bf26b869587c.html',\n",
       "   'urlToImage': 'https://bloximages.newyork1.vip.townnews.com/richmond.com/content/tncms/assets/v3/editorial/c/31/c313c2ce-8d64-11ef-825d-bf26b869587c/67128082c6d8b.preview.jpg?crop=1920%2C1008%2C0%2C35&resize=1200%2C630&order=crop%2Cresize',\n",
       "   'publishedAt': '2024-10-18T21:15:00Z',\n",
       "   'content': 'The noisy, expensive contest in a coastal Virginia district between Republican incumbent Jen Kiggans and Missy Cotter Smasal is among 43 across the country that national handicappers say will decide … [+15605 chars]'},\n",
       "  {'source': {'id': None, 'name': 'Lse.ac.uk'},\n",
       "   'author': 'Blog Admin',\n",
       "   'title': 'The 2024 Elections: Republicans won big in the Senate—but now they have to govern',\n",
       "   'description': 'Along with the White House, the Republican Party also regained the US Senate in last week’s elections. Despite this victory, Democrats held on to seats in four states that voted for Donald Trump at the presidential level. Lauren C. Bell looks at why this year…',\n",
       "   'url': 'https://blogs.lse.ac.uk/usappblog/2024/11/11/the-2024-elections-republicans-won-big-in-the-senate-but-now-they-have-to-govern/',\n",
       "   'urlToImage': 'https://blogsmedia.lse.ac.uk/blogs.dir/58/files/2019/12/Capitol-senate-featurd.jpg',\n",
       "   'publishedAt': '2024-11-11T18:06:06Z',\n",
       "   'content': 'Along with the White House, the Republican Party also regained the US Senate in last weeks elections. Despite this victory, Democrats held on to seats in four states that voted for Donald Trump at th… [+12268 chars]'},\n",
       "  {'source': {'id': 'fox-news', 'name': 'Fox News'},\n",
       "   'author': 'Hugh Hewitt',\n",
       "   'title': 'Morning Glory: Trump has the momentum, as does the Senate GOP',\n",
       "   'description': 'GOP Senate Leader Mitch McConnell and National Republican Senatorial Committee Chair Steve Daines did a great job recruiting the GOP field for 2024.',\n",
       "   'url': 'https://www.foxnews.com/opinion/morning-glory-trump-has-momentum-does-senate-gop',\n",
       "   'urlToImage': 'https://static.foxnews.com/foxnews.com/content/uploads/2024/10/dave-mccormick-donald-trump-reading-pa-oct.-9-2024-scaled.jpg',\n",
       "   'publishedAt': '2024-10-22T09:00:14Z',\n",
       "   'content': 'Join Fox News for access to this content\\r\\nPlus special access to select articles and other premium content with your account - free of charge.\\r\\nBy entering your email and pushing continue, you are ag… [+6196 chars]'},\n",
       "  {'source': {'id': 'fox-news', 'name': 'Fox News'},\n",
       "   'author': 'Fox News Staff',\n",
       "   'title': \"'Fox News Sunday' on October 20, 2024\",\n",
       "   'description': \"Maryland Gov. Wes Moore weighs in on Harris' push for a key voter demographic and Virginia Gov. Glenn Youngkin discusses the DOJ's lawsuit over voter rolls.\",\n",
       "   'url': 'https://www.foxnews.com/transcript/fox-news-sunday-october-20-2024',\n",
       "   'urlToImage': 'https://cf-images.us-east-1.prod.boltdns.net/v1/static/694940094001/50b5a9d7-1b8a-4a28-b29c-885e75316d6b/d4315111-2d31-42ce-8533-221960bc3461/1280x720/match/image.jpg',\n",
       "   'publishedAt': '2024-10-27T18:14:43Z',\n",
       "   'content': \"This is a rush transcript of Fox News Sunday on October 20, 2024. This copy may not be in its final form and may be updated.\\r\\nSHANNON BREAM, FOX NEWS ANCHOR: I'm Shannon Bream.\\r\\nWith just two weeks u… [+56671 chars]\"}]}"
      ]
     },
     "execution_count": 31,
     "metadata": {},
     "output_type": "execute_result"
    }
   ],
   "source": [
    "news_query = 'Tim Kaine congress'\n",
    "r = requests.get('https://newsapi.org/v2/everything',\n",
    "            params={'q': news_query, 'apiKey': ct.newskey, 'searchIn': 'content'},\n",
    "            headers={'User-Agent': ct.useragent})\n",
    "r.json()"
   ]
  },
  {
   "cell_type": "code",
   "execution_count": 36,
   "metadata": {},
   "outputs": [],
   "source": [
    "content = [x['title']   for x in r.json()['articles']]"
   ]
  },
  {
   "cell_type": "code",
   "execution_count": 37,
   "metadata": {},
   "outputs": [],
   "source": [
    "input_text = ' '.join(content)"
   ]
  },
  {
   "cell_type": "code",
   "execution_count": 38,
   "metadata": {},
   "outputs": [
    {
     "data": {
      "text/plain": [
       "\"Tim Kaine Projected to Win Reelection to Senate Trump Can Prosecute Anybody He Wants, Transition Leader Says Why That Kamala Harris Saturday Night Live Appearance Triggered an FCC Response Links 10/23/2024 Columbia-Class and Virginia-Class Submarines: Overbudget and Behind Schedule (Why?)LIVE: Northern Virginia and statewide election results In Virginia, a Vietnamese American Community Divided Falls Church elected leaders wary of Trump return, GOP dominance in Congress Morning Notes for October 25, 2024 Franks: Dems fumbled by passing over Hillary for Harris Trump’s mainstream picks for top foreign policy posts could reassure allies — and worry China An hour-by-hour guide to watching the races on election night Trump's mainstream picks for top foreign policy posts could reassure allies — and worry China Trump's mainstream picks for top foreign policy posts could reassure allies - and worry China Sen. Tim Kaine wins 3rd term in Washington Rep. Gerry Connolly reveals cancer treatment after reelection Ten Principles for the Coming Resistance to MAGA News Outlet Goes to Tim Walz’s Hometown in Minnesota and Everyone They Talk to is Voting for Trump (VIDEO) Schapiro: For GOP, can loyalty to Va. trump loyalty to 47?One Last Time: Wargaming the Senate 2024 Race Israel Disarmed by Mark W. Smith | Book Review Recap: What made news last week across Virginia Some of Trump's Cabinet picks have Virginia ties MIKE DAVIS: Restoring Faith In Our Elections Starts With Eradicating Senseless Democrat Rules Eleven Races Will Determine Who Takes Control of the Next Senate Live updates: What races on Virginia's ballot have been decided; Virginia GOP congratulates Trump Virginia has three new congressmen, but Dems keep advantage DOJ once OK'd law at center of Youngkin voter roll-culling order feds now suing to block Schapiro: Seaside district is no resort for Virginia Democrats The 2024 Elections: Republicans won big in the Senate—but now they have to govern Morning Glory: Trump has the momentum, as does the Senate GOP 'Fox News Sunday' on October 20, 2024\""
      ]
     },
     "execution_count": 38,
     "metadata": {},
     "output_type": "execute_result"
    }
   ],
   "source": [
    "ct.get_summary_text(input_text)"
   ]
  },
  {
   "cell_type": "code",
   "execution_count": null,
   "metadata": {},
   "outputs": [],
   "source": []
  }
 ],
 "metadata": {
  "kernelspec": {
   "display_name": "pytorch",
   "language": "python",
   "name": "python3"
  },
  "language_info": {
   "codemirror_mode": {
    "name": "ipython",
    "version": 3
   },
   "file_extension": ".py",
   "mimetype": "text/x-python",
   "name": "python",
   "nbconvert_exporter": "python",
   "pygments_lexer": "ipython3",
   "version": "3.12.2"
  }
 },
 "nbformat": 4,
 "nbformat_minor": 2
}
