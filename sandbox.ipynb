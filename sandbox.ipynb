{
 "cells": [
  {
   "cell_type": "code",
   "execution_count": 2,
   "metadata": {},
   "outputs": [],
   "source": [
    "from contrans import contrans\n",
    "import numpy as np\n",
    "import pandas as pd\n"
   ]
  },
  {
   "cell_type": "code",
   "execution_count": 3,
   "metadata": {},
   "outputs": [
    {
     "data": {
      "text/plain": [
       "'LnlMSca7Rh1ZEnKbPvzyCUamtXbHTzrfDzhPARc2'"
      ]
     },
     "execution_count": 3,
     "metadata": {},
     "output_type": "execute_result"
    }
   ],
   "source": [
    "ct = contrans()\n",
    "ct.congresskey"
   ]
  },
  {
   "cell_type": "code",
   "execution_count": 4,
   "metadata": {},
   "outputs": [
    {
     "data": {
      "text/plain": [
       "'python-requests/2.32.3'"
      ]
     },
     "execution_count": 4,
     "metadata": {},
     "output_type": "execute_result"
    }
   ],
   "source": [
    "useragent = ct.get_useragent()\n",
    "useragent"
   ]
  },
  {
   "cell_type": "code",
   "execution_count": 5,
   "metadata": {},
   "outputs": [
    {
     "data": {
      "text/plain": [
       "{'User-Agent': 'python-requests/2.32.3', 'From': 'wangtianlong1207@gmail.com'}"
      ]
     },
     "execution_count": 5,
     "metadata": {},
     "output_type": "execute_result"
    }
   ],
   "source": [
    "headers = ct.make_header()\n",
    "headers"
   ]
  },
  {
   "cell_type": "code",
   "execution_count": null,
   "metadata": {},
   "outputs": [],
   "source": []
  },
  {
   "cell_type": "code",
   "execution_count": null,
   "metadata": {},
   "outputs": [],
   "source": []
  },
  {
   "cell_type": "code",
   "execution_count": null,
   "metadata": {},
   "outputs": [],
   "source": []
  },
  {
   "cell_type": "code",
   "execution_count": null,
   "metadata": {},
   "outputs": [],
   "source": []
  },
  {
   "cell_type": "code",
   "execution_count": null,
   "metadata": {},
   "outputs": [],
   "source": []
  },
  {
   "cell_type": "code",
   "execution_count": null,
   "metadata": {},
   "outputs": [],
   "source": []
  },
  {
   "cell_type": "code",
   "execution_count": 4,
   "metadata": {},
   "outputs": [
    {
     "data": {
      "text/html": [
       "<div>\n",
       "<style scoped>\n",
       "    .dataframe tbody tr th:only-of-type {\n",
       "        vertical-align: middle;\n",
       "    }\n",
       "\n",
       "    .dataframe tbody tr th {\n",
       "        vertical-align: top;\n",
       "    }\n",
       "\n",
       "    .dataframe thead th {\n",
       "        text-align: right;\n",
       "    }\n",
       "</style>\n",
       "<table border=\"1\" class=\"dataframe\">\n",
       "  <thead>\n",
       "    <tr style=\"text-align: right;\">\n",
       "      <th></th>\n",
       "      <th>congress</th>\n",
       "      <th>chamber</th>\n",
       "      <th>rollnumber</th>\n",
       "      <th>icpsr</th>\n",
       "      <th>cast_code</th>\n",
       "      <th>prob</th>\n",
       "    </tr>\n",
       "  </thead>\n",
       "  <tbody>\n",
       "    <tr>\n",
       "      <th>0</th>\n",
       "      <td>118</td>\n",
       "      <td>House</td>\n",
       "      <td>1</td>\n",
       "      <td>14854</td>\n",
       "      <td>6</td>\n",
       "      <td>100.0</td>\n",
       "    </tr>\n",
       "    <tr>\n",
       "      <th>1</th>\n",
       "      <td>118</td>\n",
       "      <td>House</td>\n",
       "      <td>1</td>\n",
       "      <td>14863</td>\n",
       "      <td>6</td>\n",
       "      <td>98.2</td>\n",
       "    </tr>\n",
       "    <tr>\n",
       "      <th>2</th>\n",
       "      <td>118</td>\n",
       "      <td>House</td>\n",
       "      <td>1</td>\n",
       "      <td>14873</td>\n",
       "      <td>1</td>\n",
       "      <td>100.0</td>\n",
       "    </tr>\n",
       "    <tr>\n",
       "      <th>3</th>\n",
       "      <td>118</td>\n",
       "      <td>House</td>\n",
       "      <td>1</td>\n",
       "      <td>15029</td>\n",
       "      <td>1</td>\n",
       "      <td>100.0</td>\n",
       "    </tr>\n",
       "    <tr>\n",
       "      <th>4</th>\n",
       "      <td>118</td>\n",
       "      <td>House</td>\n",
       "      <td>1</td>\n",
       "      <td>15433</td>\n",
       "      <td>1</td>\n",
       "      <td>100.0</td>\n",
       "    </tr>\n",
       "    <tr>\n",
       "      <th>...</th>\n",
       "      <td>...</td>\n",
       "      <td>...</td>\n",
       "      <td>...</td>\n",
       "      <td>...</td>\n",
       "      <td>...</td>\n",
       "      <td>...</td>\n",
       "    </tr>\n",
       "    <tr>\n",
       "      <th>486659</th>\n",
       "      <td>118</td>\n",
       "      <td>House</td>\n",
       "      <td>1118</td>\n",
       "      <td>31101</td>\n",
       "      <td>6</td>\n",
       "      <td>100.0</td>\n",
       "    </tr>\n",
       "    <tr>\n",
       "      <th>486660</th>\n",
       "      <td>118</td>\n",
       "      <td>House</td>\n",
       "      <td>1118</td>\n",
       "      <td>31102</td>\n",
       "      <td>9</td>\n",
       "      <td>99.6</td>\n",
       "    </tr>\n",
       "    <tr>\n",
       "      <th>486661</th>\n",
       "      <td>118</td>\n",
       "      <td>House</td>\n",
       "      <td>1118</td>\n",
       "      <td>39301</td>\n",
       "      <td>6</td>\n",
       "      <td>100.0</td>\n",
       "    </tr>\n",
       "    <tr>\n",
       "      <th>486662</th>\n",
       "      <td>118</td>\n",
       "      <td>House</td>\n",
       "      <td>1118</td>\n",
       "      <td>39307</td>\n",
       "      <td>6</td>\n",
       "      <td>100.0</td>\n",
       "    </tr>\n",
       "    <tr>\n",
       "      <th>486663</th>\n",
       "      <td>118</td>\n",
       "      <td>House</td>\n",
       "      <td>1118</td>\n",
       "      <td>91980</td>\n",
       "      <td>1</td>\n",
       "      <td>99.1</td>\n",
       "    </tr>\n",
       "  </tbody>\n",
       "</table>\n",
       "<p>486664 rows × 6 columns</p>\n",
       "</div>"
      ],
      "text/plain": [
       "        congress chamber  rollnumber  icpsr  cast_code   prob\n",
       "0            118   House           1  14854          6  100.0\n",
       "1            118   House           1  14863          6   98.2\n",
       "2            118   House           1  14873          1  100.0\n",
       "3            118   House           1  15029          1  100.0\n",
       "4            118   House           1  15433          1  100.0\n",
       "...          ...     ...         ...    ...        ...    ...\n",
       "486659       118   House        1118  31101          6  100.0\n",
       "486660       118   House        1118  31102          9   99.6\n",
       "486661       118   House        1118  39301          6  100.0\n",
       "486662       118   House        1118  39307          6  100.0\n",
       "486663       118   House        1118  91980          1   99.1\n",
       "\n",
       "[486664 rows x 6 columns]"
      ]
     },
     "execution_count": 4,
     "metadata": {},
     "output_type": "execute_result"
    }
   ],
   "source": [
    "votes = ct.get_votes()\n",
    "votes"
   ]
  },
  {
   "cell_type": "code",
   "execution_count": 4,
   "metadata": {},
   "outputs": [
    {
     "ename": "NameError",
     "evalue": "name 'house' is not defined",
     "output_type": "error",
     "traceback": [
      "\u001b[0;31m---------------------------------------------------------------------------\u001b[0m",
      "\u001b[0;31mNameError\u001b[0m                                 Traceback (most recent call last)",
      "Cell \u001b[0;32mIn[4], line 1\u001b[0m\n\u001b[0;32m----> 1\u001b[0m house \u001b[38;5;241m=\u001b[39m \u001b[43mhouse\u001b[49m[[\u001b[38;5;124m'\u001b[39m\u001b[38;5;124mrollnumber\u001b[39m\u001b[38;5;124m'\u001b[39m, \u001b[38;5;124m'\u001b[39m\u001b[38;5;124micpsr\u001b[39m\u001b[38;5;124m'\u001b[39m, \u001b[38;5;124m'\u001b[39m\u001b[38;5;124mcast_code\u001b[39m\u001b[38;5;124m'\u001b[39m]]\n",
      "\u001b[0;31mNameError\u001b[0m: name 'house' is not defined"
     ]
    }
   ],
   "source": [
    "house = house[['rollnumber', 'icpsr', 'cast_code']]"
   ]
  },
  {
   "cell_type": "code",
   "execution_count": null,
   "metadata": {},
   "outputs": [],
   "source": [
    "house_mat = pd.merge(house, house, on='rollnumber')\n",
    "house_mat['agree'] = house_mat['cast_code_x'] == house_mat['cast_code_y']\n",
    "house_mat = house_mat.groupby(['icpsr_x', 'icpsr_y'])['agree'].agg({'agree': 'mean'})\n",
    "house_mat = house_mat.reset_index()"
   ]
  },
  {
   "cell_type": "code",
   "execution_count": null,
   "metadata": {},
   "outputs": [],
   "source": [
    "ideo= get_ideology()\n"
   ]
  }
 ],
 "metadata": {
  "kernelspec": {
   "display_name": "Python 3",
   "language": "python",
   "name": "python3"
  },
  "language_info": {
   "codemirror_mode": {
    "name": "ipython",
    "version": 3
   },
   "file_extension": ".py",
   "mimetype": "text/x-python",
   "name": "python",
   "nbconvert_exporter": "python",
   "pygments_lexer": "ipython3",
   "version": "3.12.5"
  }
 },
 "nbformat": 4,
 "nbformat_minor": 2
}
