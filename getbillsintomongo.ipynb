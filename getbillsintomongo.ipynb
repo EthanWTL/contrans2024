{
 "cells": [
  {
   "cell_type": "code",
   "execution_count": 2,
   "metadata": {},
   "outputs": [],
   "source": [
    "from contrans import contrans\n",
    "import numpy as np\n",
    "import pandas as pd\n",
    "import dotenv\n",
    "import os\n",
    "import json\n",
    "import requests \n",
    "import psycopg\n",
    "import sqlite3\n",
    "from sqlalchemy import create_engine    \n",
    "dotenv.load_dotenv()\n",
    "congresskey = os.getenv('congresskey')\n",
    "postgrespassword = os.getenv('POSTGRES_PASSWORD')"
   ]
  },
  {
   "cell_type": "code",
   "execution_count": 3,
   "metadata": {},
   "outputs": [],
   "source": [
    "ct = contrans()"
   ]
  },
  {
   "cell_type": "code",
   "execution_count": 4,
   "metadata": {},
   "outputs": [],
   "source": [
    "# Don't run again with from_scratch=True if you don't want to overwrite\n",
    "mongo_bills = ct.connect_to_mongo(from_scratch=True)"
   ]
  },
  {
   "cell_type": "code",
   "execution_count": 5,
   "metadata": {},
   "outputs": [
    {
     "data": {
      "text/plain": [
       "0      G000578\n",
       "1      L000605\n",
       "2      W000829\n",
       "3      N000188\n",
       "4      Y000064\n",
       "        ...   \n",
       "549    H001038\n",
       "550    S001222\n",
       "551    S001192\n",
       "552    F000062\n",
       "553    S001197\n",
       "Name: bioguideId, Length: 554, dtype: object"
      ]
     },
     "execution_count": 5,
     "metadata": {},
     "output_type": "execute_result"
    }
   ],
   "source": [
    "bioguideIDs = ct.get_bioguideIDs()\n",
    "members = bioguideIDs['bioguideId']\n",
    "members"
   ]
  },
  {
   "cell_type": "code",
   "execution_count": null,
   "metadata": {},
   "outputs": [
    {
     "name": "stdout",
     "output_type": "stream",
     "text": [
      "Now uploading bills from G000578 to MongoDB: legislator 1 of 554\n",
      "Now uploading bills from L000605 to MongoDB: legislator 2 of 554\n",
      "Failed to upload L000605\n",
      "Now uploading bills from W000829 to MongoDB: legislator 3 of 554\n",
      "Failed to upload W000829\n",
      "Now uploading bills from N000188 to MongoDB: legislator 4 of 554\n",
      "Failed to upload N000188\n",
      "Now uploading bills from Y000064 to MongoDB: legislator 5 of 554\n"
     ]
    }
   ],
   "source": [
    "ct.upload_many_members_to_mongo(mongo_bills, members)"
   ]
  },
  {
   "cell_type": "code",
   "execution_count": null,
   "metadata": {},
   "outputs": [],
   "source": []
  }
 ],
 "metadata": {
  "kernelspec": {
   "display_name": "pytorch",
   "language": "python",
   "name": "python3"
  },
  "language_info": {
   "codemirror_mode": {
    "name": "ipython",
    "version": 3
   },
   "file_extension": ".py",
   "mimetype": "text/x-python",
   "name": "python",
   "nbconvert_exporter": "python",
   "pygments_lexer": "ipython3",
   "version": "3.12.2"
  }
 },
 "nbformat": 4,
 "nbformat_minor": 2
}
